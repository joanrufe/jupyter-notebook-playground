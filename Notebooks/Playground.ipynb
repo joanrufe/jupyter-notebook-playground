{
 "cells": [
  {
   "cell_type": "code",
   "execution_count": null,
   "id": "005d9d0e",
   "metadata": {},
   "outputs": [],
   "source": [
    "# install pandas dependencies\n",
    "%pip install pandas\n",
    "%pip install matplotlib\n"
   ]
  },
  {
   "cell_type": "code",
   "execution_count": null,
   "id": "a7a41d7e-6635-4195-9f12-64d1a135242e",
   "metadata": {},
   "outputs": [],
   "source": [
    "# import pandas\n",
    "import pandas as pd\n",
    "import numpy\n",
    "#matplotlib\n",
    "import matplotlib.pyplot as plt\n",
    "import re\n"
   ]
  },
  {
   "cell_type": "code",
   "execution_count": null,
   "id": "a213761e",
   "metadata": {},
   "outputs": [],
   "source": [
    "# download zip urls into ../data/ folder\n",
    "!rm -rf ./work/data/*\n",
    "!wget -P ./work/data \"https://github.com/JaimeObregon/subvenciones/raw/main/files/convocatorias.csv.gz\"\n",
    "!wget -P ./work/data \"https://github.com/JaimeObregon/subvenciones/raw/main/files/juridicas_1.csv.gz\"\n",
    "!wget -P ./work/data \"https://github.com/JaimeObregon/subvenciones/raw/main/files/juridicas_2.csv.gz\"\n"
   ]
  },
  {
   "cell_type": "code",
   "execution_count": null,
   "id": "7175140f",
   "metadata": {},
   "outputs": [],
   "source": [
    "# unzip all files\n",
    "!gunzip ./work/data/*.gz -d\n"
   ]
  },
  {
   "cell_type": "code",
   "execution_count": null,
   "id": "9cde78e1",
   "metadata": {},
   "outputs": [],
   "source": [
    "!ls -lha ./work/data/"
   ]
  },
  {
   "cell_type": "code",
   "execution_count": null,
   "id": "e19aca3f",
   "metadata": {},
   "outputs": [],
   "source": [
    "# setup pandas plot background to a gray one\n",
    "plt.style.use('dark_background')\n",
    "\n",
    "# show 100000000 instead of 1e8\n",
    "pd.options.display.float_format = '{:,.0f}'.format"
   ]
  },
  {
   "cell_type": "code",
   "execution_count": null,
   "id": "2789f032",
   "metadata": {},
   "outputs": [],
   "source": [
    "# Files:\n",
    "# convocatorias.csv\n",
    "# juridicas_1.csv\n",
    "# juridicas_2.csv\n",
    "# load data into pandas dataframes\n",
    "convocatorias_columns = [\"id\",\n",
    "    \"codigo_bdns\",\n",
    "    \"MRR\",\n",
    "    \"administracion\",\n",
    "    \"departamento\",\n",
    "    \"organo\",\n",
    "    \"fecha_registro\",\n",
    "    \"titulo_convocatoria\",\n",
    "    \"url_bases_regul\",\n",
    "    \"titulo_cooficial\",\n",
    "    \"colDesconocida1\",\n",
    "    \"colDesconocida2\",\n",
    "    \"colDesconocida3\"]\n",
    "\n",
    "convocatorias = pd.read_csv('./data/convocatorias.csv', names=convocatorias_columns, header=0)\n",
    "# juridicas_2 = pd.read_csv('./data/juridicas_2.csv')convocatorias['departamento']\n",
    "# drop columns colDesconocida1, colDesconocida2, colDesconocida3\n",
    "convocatorias = convocatorias.drop(columns=['colDesconocida1', 'colDesconocida2', 'colDesconocida3'])\n",
    "convocatorias['MRR'] = convocatorias['MRR'] == 'SI'\n",
    "convocatorias['fecha_registro'] = pd.to_datetime(convocatorias['fecha_registro'], format='%d/%m/%Y')\n",
    "convocatorias['year'] = convocatorias['fecha_registro'].dt.year\n",
    "convocatorias.info()\n",
    "\n"
   ]
  },
  {
   "cell_type": "code",
   "execution_count": null,
   "id": "e5cbdf41",
   "metadata": {},
   "outputs": [],
   "source": [
    "juridicas_columns = [\"id\",\n",
    "    \"id_convocatoria\",\n",
    "    \"administracion\",\n",
    "    \"departamento\",\n",
    "    \"organo\",\n",
    "    \"titulo_convocatoria\",\n",
    "    \"url_bases_regul\",\n",
    "    \"apli_presupuestaria\",\n",
    "    \"fecha_concesion\",\n",
    "    \"beneficiario\",\n",
    "    \"importe\",\n",
    "    \"instrumento\",\n",
    "    \"ayuda_equivalente\",\n",
    "    \"detalles\",\n",
    "    \"codigo_bdns\",\n",
    "    \"valor_desconocido\",\n",
    "    \"id_interna\"]\n",
    "juridicas = pd.read_csv('./data/juridicas_1.csv', names=juridicas_columns, header=0)\n",
    "# la columna beneficiario contiene el id (nif) del beneficiario en los primeros 9 caracteres\n",
    "juridicas['beneficiario_id'] = juridicas['beneficiario'].str.extract(r'([A-Z0-9]{9})')\n",
    "juridicas['beneficiario'] = juridicas['beneficiario'].str.replace(r'(^[A-Z0-9]{9})', '')\n",
    "juridicas['fecha_concesion'] = pd.to_datetime(juridicas['fecha_concesion'], format='%d/%m/%Y')\n",
    "juridicas['year'] = juridicas['fecha_concesion'].dt.year\n",
    "juridicas = juridicas.reindex(sorted(juridicas.columns), axis=1)\n",
    "juridicas.info()"
   ]
  },
  {
   "cell_type": "code",
   "execution_count": null,
   "id": "c6b58e32",
   "metadata": {},
   "outputs": [],
   "source": [
    "# \n",
    "juridicas['beneficiario'].value_counts().sort_values(ascending=False).head(10)"
   ]
  },
  {
   "cell_type": "code",
   "execution_count": null,
   "id": "6bf8cbf6",
   "metadata": {},
   "outputs": [],
   "source": [
    "# juridicas.groupby('instrumento')['importe'].sum().sort_values(ascending=False).head(10)\n",
    "# also group by beneficiario\n",
    "grouped_jur =  juridicas.groupby(['beneficiario', 'instrumento'])['importe'].agg(['sum', 'count']).sort_values(by='sum', ascending=False)\n",
    "grouped_jur.head(10)\n"
   ]
  },
  {
   "cell_type": "code",
   "execution_count": null,
   "id": "d56b7bd1",
   "metadata": {},
   "outputs": [],
   "source": [
    "# este es el top 10 de beneficiarios que más dinero han recibido y en 1 pago!\n",
    "# juridicas.query('beneficiario.str.contains(\"Mº SANIDAD CONSUMO Y BIENESTAR SOCIAL\")')\n",
    "juridicas.query('beneficiario.str.contains(\"EL CORTE INGLES, S.A.\")')"
   ]
  },
  {
   "cell_type": "code",
   "execution_count": 69,
   "id": "fbd9dbaf",
   "metadata": {},
   "outputs": [],
   "source": [
    "top_ten_beneficiarios = juridicas.groupby('beneficiario')['importe'].sum().sort_values(ascending=False).head(10)"
   ]
  },
  {
   "cell_type": "code",
   "execution_count": null,
   "id": "40c005e5",
   "metadata": {},
   "outputs": [],
   "source": [
    "grouped_jur.sort_values(by='count', ascending=False).head(10).plot.barh(y='count')"
   ]
  },
  {
   "cell_type": "code",
   "execution_count": null,
   "id": "1c97e138",
   "metadata": {},
   "outputs": [],
   "source": [
    "# merge convocatorias en juridicas by id_convocatoria\n",
    "convocatorias_juridicas = pd.merge(convocatorias, juridicas, left_on='id', right_on='id_convocatoria')"
   ]
  },
  {
   "cell_type": "code",
   "execution_count": 72,
   "id": "fd5bc3bc",
   "metadata": {},
   "outputs": [
    {
     "ename": "NameError",
     "evalue": "name 'convocatorias' is not defined",
     "output_type": "error",
     "traceback": [
      "\u001b[0;31m---------------------------------------------------------------------------\u001b[0m",
      "\u001b[0;31mNameError\u001b[0m                                 Traceback (most recent call last)",
      "Cell \u001b[0;32mIn[72], line 2\u001b[0m\n\u001b[1;32m      1\u001b[0m \u001b[39m# cantidad de convocatorias por mes\u001b[39;00m\n\u001b[0;32m----> 2\u001b[0m convocatorias[\u001b[39m'\u001b[39m\u001b[39mfecha_registro\u001b[39m\u001b[39m'\u001b[39m]\u001b[39m.\u001b[39mdt\u001b[39m.\u001b[39mmonth\u001b[39m.\u001b[39mvalue_counts()\u001b[39m.\u001b[39msort_index()\\\n\u001b[1;32m      3\u001b[0m     \u001b[39m.\u001b[39mplot(kind\u001b[39m=\u001b[39m\u001b[39m'\u001b[39m\u001b[39mbar\u001b[39m\u001b[39m'\u001b[39m, title\u001b[39m=\u001b[39m\u001b[39m'\u001b[39m\u001b[39mConvocatorias por mes\u001b[39m\u001b[39m'\u001b[39m, figsize\u001b[39m=\u001b[39m(\u001b[39m10\u001b[39m, \u001b[39m5\u001b[39m))\u001b[39m.\u001b[39mset_xticklabels([\u001b[39m'\u001b[39m\u001b[39mEnero\u001b[39m\u001b[39m'\u001b[39m, \u001b[39m'\u001b[39m\u001b[39mFebrero\u001b[39m\u001b[39m'\u001b[39m, \u001b[39m'\u001b[39m\u001b[39mMarzo\u001b[39m\u001b[39m'\u001b[39m, \u001b[39m'\u001b[39m\u001b[39mAbril\u001b[39m\u001b[39m'\u001b[39m, \u001b[39m'\u001b[39m\u001b[39mMayo\u001b[39m\u001b[39m'\u001b[39m, \u001b[39m'\u001b[39m\u001b[39mJunio\u001b[39m\u001b[39m'\u001b[39m, \u001b[39m'\u001b[39m\u001b[39mJulio\u001b[39m\u001b[39m'\u001b[39m, \u001b[39m'\u001b[39m\u001b[39mAgosto\u001b[39m\u001b[39m'\u001b[39m, \u001b[39m'\u001b[39m\u001b[39mSeptiembre\u001b[39m\u001b[39m'\u001b[39m, \u001b[39m'\u001b[39m\u001b[39mOctubre\u001b[39m\u001b[39m'\u001b[39m, \u001b[39m'\u001b[39m\u001b[39mNoviembre\u001b[39m\u001b[39m'\u001b[39m, \u001b[39m'\u001b[39m\u001b[39mDiciembre\u001b[39m\u001b[39m'\u001b[39m], rotation\u001b[39m=\u001b[39m\u001b[39m45\u001b[39m)\n\u001b[1;32m      5\u001b[0m plt\u001b[39m.\u001b[39mshow()\n",
      "\u001b[0;31mNameError\u001b[0m: name 'convocatorias' is not defined"
     ]
    }
   ],
   "source": [
    "# cantidad de convocatorias por mes\n",
    "convocatorias['fecha_registro'].dt.month.value_counts().sort_index()\\\n",
    "    .plot(kind='bar', title='Convocatorias por mes', figsize=(10, 5)).set_xticklabels(['Enero', 'Febrero', 'Marzo', 'Abril', 'Mayo', 'Junio', 'Julio', 'Agosto', 'Septiembre', 'Octubre', 'Noviembre', 'Diciembre'], rotation=45)\n",
    "\n",
    "plt.show()"
   ]
  },
  {
   "cell_type": "code",
   "execution_count": null,
   "id": "f130faa5",
   "metadata": {},
   "outputs": [],
   "source": [
    "# Convocatorias por administracion\n",
    "convocatorias['administracion'].value_counts().head(15).sort_values().plot(kind='barh')\n",
    "plt.show()\n"
   ]
  },
  {
   "cell_type": "code",
   "execution_count": null,
   "id": "b3c3d777",
   "metadata": {},
   "outputs": [],
   "source": [
    "convocatorias['departamento']"
   ]
  }
 ],
 "metadata": {
  "kernelspec": {
   "display_name": "Python 3 (ipykernel)",
   "language": "python",
   "name": "python3"
  },
  "language_info": {
   "codemirror_mode": {
    "name": "ipython",
    "version": 3
   },
   "file_extension": ".py",
   "mimetype": "text/x-python",
   "name": "python",
   "nbconvert_exporter": "python",
   "pygments_lexer": "ipython3",
   "version": "3.10.8"
  },
  "vscode": {
   "interpreter": {
    "hash": "916dbcbb3f70747c44a77c7bcd40155683ae19c65e1c03b4aa3499c5328201f1"
   }
  }
 },
 "nbformat": 4,
 "nbformat_minor": 5
}
